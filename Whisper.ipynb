{
  "cells": [
    {
      "cell_type": "markdown",
      "metadata": {
        "id": "view-in-github",
        "colab_type": "text"
      },
      "source": [
        "<a href=\"https://colab.research.google.com/github/francescogemignani/francescogemignani/blob/main/Whisper.ipynb\" target=\"_parent\"><img src=\"https://colab.research.google.com/assets/colab-badge.svg\" alt=\"Open In Colab\"/></a>"
      ]
    },
    {
      "cell_type": "markdown",
      "metadata": {
        "id": "_we7VahhXqJx"
      },
      "source": [
        "Avvia per installare la libreria Whisper da GitHub\n"
      ]
    },
    {
      "cell_type": "code",
      "execution_count": null,
      "metadata": {
        "id": "gBo_pPvEXnd9"
      },
      "outputs": [],
      "source": [
        "!pip install git+https://github.com/openai/whisper.git"
      ]
    },
    {
      "cell_type": "markdown",
      "metadata": {
        "id": "0bOC0yxsX13a"
      },
      "source": [
        "Avvia questo per scaricare un video Youtube. Basta sostituire il link.\n",
        "Oppure carica un tuo video / audio."
      ]
    },
    {
      "cell_type": "code",
      "execution_count": null,
      "metadata": {
        "id": "VLgZy21VX0Gr"
      },
      "outputs": [],
      "source": [
        "!pip install yt-dlp\n",
        "!yt-dlp https://www.youtube.com/watch?v=Vh7iEv-IoUg&ab_channel=Datapizza --format m4a -o \"%(id)s.%(ext)s\""
      ]
    },
    {
      "cell_type": "markdown",
      "metadata": {
        "id": "0Fl_5fy1YD9-"
      },
      "source": [
        "A questo punto lancia la trascrizione. Scegli la lingua e lancia il comando.\n",
        "\n",
        "1.   Sostituisci il nome del file con content/[nomefile]\n",
        "2.   Scegli la lingua (Italian, English...)\n",
        "3.   Avvia la trascrizione!\n",
        "\n",
        "<- Si creerà un file di testo a cui accedi dalla cartella qua a fianco.\n",
        "\n",
        "\n"
      ]
    },
    {
      "cell_type": "code",
      "execution_count": null,
      "metadata": {
        "id": "u2ADaqdgYI2U"
      },
      "outputs": [],
      "source": [
        "!whisper \"/content/phd.webm\" --model small --language Italian"
      ]
    },
    {
      "cell_type": "markdown",
      "metadata": {
        "id": "90qLqdi1YiLN"
      },
      "source": [
        "Fine! :)\n",
        "\n",
        "By Giacomo Ciarlini, 8 Gennaio 2024"
      ]
    }
  ],
  "metadata": {
    "accelerator": "GPU",
    "colab": {
      "provenance": [],
      "include_colab_link": true
    },
    "kernelspec": {
      "display_name": "Python 3",
      "name": "python3"
    },
    "language_info": {
      "name": "python"
    }
  },
  "nbformat": 4,
  "nbformat_minor": 0
}